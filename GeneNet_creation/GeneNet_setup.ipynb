{
 "cells": [
  {
   "cell_type": "markdown",
   "id": "f8d96948-1341-45ae-a184-4ea055f2ecd8",
   "metadata": {},
   "source": [
    "# Creation of GeneNet\n",
    "Subsetting the Differentially Expressed Genes in KIRP data from the much greater PCNet to form GeneNet."
   ]
  },
  {
   "cell_type": "code",
   "execution_count": null,
   "id": "5b99333e-3c5f-41d9-91d0-8e29f9579f46",
   "metadata": {},
   "outputs": [],
   "source": [
    "import pandas as pd\n",
    "import numpy as np"
   ]
  },
  {
   "cell_type": "markdown",
   "id": "4e334fb1-b71c-4234-b0b3-8427811bb7d9",
   "metadata": {},
   "source": [
    "## Definition"
   ]
  },
  {
   "cell_type": "code",
   "execution_count": null,
   "id": "6bb3dca0-4242-400e-b39b-5a71579368f6",
   "metadata": {},
   "outputs": [],
   "source": [
    "# to get the list of genes from upregulated and downregulate gene file\n",
    "def getgenelsit(upfile, downfile):\n",
    "    \n",
    "    upgenes_file = pd.read_csv(upfile)\n",
    "    downgenes_file = pd.read_csv(downfile)\n",
    "    \n",
    "    genesup = list(upgenes_file['x'])\n",
    "    genesdown = list(downgenes_file['x'])\n",
    "    \n",
    "    genes= np.array(genesup+genesdown)\n",
    "    \n",
    "    finalgenes = []\n",
    "    for i in genes:\n",
    "        if i != 'nan':\n",
    "            finalgenes.append(i)\n",
    "            \n",
    "    return finalgenes"
   ]
  },
  {
   "cell_type": "code",
   "execution_count": null,
   "id": "68179493-c4c5-4a1e-8351-8debbc1d6cc1",
   "metadata": {},
   "outputs": [],
   "source": [
    "# to create a subnetwork given the list of gene and the main network\n",
    "def make_subnet(network_file, gene_list, save_file):\n",
    "    network = pd.read_csv(network_file, sep = '\\t', header=None)\n",
    "    subnetwork = []\n",
    "    for i in range(0,len(network)):\n",
    "        if network.iloc[i][0] in gene_list and network.iloc[i][1] in gene_list:\n",
    "            subnetwork.append([network.iloc[i][0],network.iloc[i][1]])\n",
    "        \n",
    "    print(\"Number of edges in subnetwork : \", len(subnetwork))\n",
    "    \n",
    "    subnet = np.array(subnetwork)\n",
    "    genes_sub = set(list(subnet[:,0])+list(subnet[:,1]))\n",
    "    \n",
    "    print(\"Number of unique genes in subnetwork : \", len(genes_sub))\n",
    "    \n",
    "    sub_df =pd.DataFrame(subnetwork)\n",
    "    sub_df.to_csv(save_file, sep=\"\\t\", index_label=None, index=None, header=None)\n",
    "    "
   ]
  },
  {
   "cell_type": "markdown",
   "id": "387daacb-6a88-420c-9892-b7a064ec3598",
   "metadata": {},
   "source": [
    "## RUN"
   ]
  },
  {
   "cell_type": "code",
   "execution_count": null,
   "id": "6814c610-790e-40b0-90e4-c6a31f4eb8e4",
   "metadata": {},
   "outputs": [],
   "source": [
    "up_f = \"./up_kirp_genes.csv\"\n",
    "down_f = \"./New_Server/down_kirp_genes.csv\"\n",
    "save_loc = \"./KIRP_GeneNet.txt\"\n",
    "network_f = \"./PCNet.txt\"\n",
    "\n",
    "genes = getgenelsit(up_f, down_f)\n",
    "make_subnet(network_f, genes, save_loc)"
   ]
  }
 ],
 "metadata": {
  "kernelspec": {
   "display_name": "Python 3 (ipykernel)",
   "language": "python",
   "name": "python3"
  },
  "language_info": {
   "codemirror_mode": {
    "name": "ipython",
    "version": 3
   },
   "file_extension": ".py",
   "mimetype": "text/x-python",
   "name": "python",
   "nbconvert_exporter": "python",
   "pygments_lexer": "ipython3",
   "version": "3.10.4"
  }
 },
 "nbformat": 4,
 "nbformat_minor": 5
}
