{
 "cells": [
  {
   "cell_type": "code",
   "execution_count": null,
   "id": "0e917f1d-2c10-4761-a296-e7dcee752f24",
   "metadata": {
    "tags": []
   },
   "outputs": [],
   "source": [
    "library(TCGAbiolinks)\n",
    "library(DESeq2)\n",
    "library(ggplot2)"
   ]
  },
  {
   "cell_type": "code",
   "execution_count": null,
   "id": "8be992d8-ec18-452b-baf1-3d0a4de31801",
   "metadata": {
    "tags": []
   },
   "outputs": [],
   "source": [
    "#download\n",
    "query.KIRP <- GDCquery(project = \"TCGA-KIRP\", \n",
    "                       data.category = \"Transcriptome Profiling\", \n",
    "                       data.type = \"Gene Expression Quantification\", \n",
    "                       workflow.type = \"HTSeq - Counts\", \n",
    "                       sample.type = \"Primary Tumor\")\n",
    "\n",
    "GDCdownload(query.KIRP)\n",
    "tumor.kirp <- GDCprepare(query = query.KIRP, \n",
    "                         save = TRUE, \n",
    "                         save.filename = \"kirpRNAseqTumor.rda\", \n",
    "                         summarizedExperiment = TRUE)"
   ]
  },
  {
   "cell_type": "code",
   "execution_count": null,
   "id": "6b954f84-8c23-41d9-a543-6c940f32506b",
   "metadata": {
    "tags": []
   },
   "outputs": [],
   "source": [
    "#download\n",
    "query.KIRP_normal <- GDCquery(project = \"TCGA-KIRP\", \n",
    "                       data.category = \"Transcriptome Profiling\", \n",
    "                       data.type = \"Gene Expression Quantification\", \n",
    "                       workflow.type = \"HTSeq - Counts\", \n",
    "                       sample.type = \"Solid Tissue Normal\")\n",
    "\n",
    "GDCdownload(query.KIRP_normal)\n",
    "tumor.kirp_normal <- GDCprepare(query = query.KIRP_normal, \n",
    "                                save = TRUE, \n",
    "                                save.filename = \"kirpRNAseqNormal.rda\", \n",
    "                                summarizedExperiment = TRUE)"
   ]
  },
  {
   "cell_type": "code",
   "execution_count": null,
   "id": "ca77a6bb-4439-472b-9add-7064a382e651",
   "metadata": {},
   "outputs": [],
   "source": [
    "(tumor.kirp_normal)\n",
    "print(\"\")\n",
    "(tumor.kirp)"
   ]
  },
  {
   "cell_type": "code",
   "execution_count": null,
   "id": "2ba00fc7-bef9-4a59-92a6-62d30dbaf1d7",
   "metadata": {},
   "outputs": [],
   "source": [
    "(colData(tumor.kirp_normal)$Normal = factor(1, levels = c(1, 0)))\n",
    "(colData(tumor.kirp)$Normal = factor(0, levels = c(1, 0)))"
   ]
  },
  {
   "cell_type": "code",
   "execution_count": null,
   "id": "4b0e214f-e5fc-4ef8-ab4e-115215f0c46b",
   "metadata": {
    "tags": []
   },
   "outputs": [],
   "source": [
    "commoncoldata <- intersect(names(colData(tumor.kirp)), names(colData(tumor.kirp_normal)))\n",
    "colData(tumor.kirp) <- colData(tumor.kirp)[commoncoldata]\n",
    "(colData(tumor.kirp_normal) <- colData(tumor.kirp_normal)[commoncoldata])"
   ]
  },
  {
   "cell_type": "code",
   "execution_count": null,
   "id": "1015cabe-3be6-4181-aeb0-af228347d2e1",
   "metadata": {
    "tags": []
   },
   "outputs": [],
   "source": [
    "kirp_combined <- SummarizedExperiment::cbind(tumor.kirp_normal, tumor.kirp)"
   ]
  },
  {
   "cell_type": "code",
   "execution_count": null,
   "id": "17438821-d840-41cd-b433-ce70ebdae210",
   "metadata": {},
   "outputs": [],
   "source": [
    "#Design\n",
    "kirp_combined.dds <- DESeqDataSet(kirp_combined, design = ~ Normal)"
   ]
  },
  {
   "cell_type": "code",
   "execution_count": null,
   "id": "b4499781-d0ee-4363-b3e8-2a32cda166bb",
   "metadata": {},
   "outputs": [],
   "source": [
    "# Remove sample with less than 10 counts across samples for a given gene\n",
    "kirp_combined.dds <- kirp_combined.dds[rowSums(counts(kirp_combined.dds))>10]"
   ]
  },
  {
   "cell_type": "code",
   "execution_count": null,
   "id": "1757ace2-3ab3-4ebc-9d08-4f88f7921a5f",
   "metadata": {},
   "outputs": [],
   "source": [
    "dds_kirp <- DESeq(kirp_combined.dds)"
   ]
  },
  {
   "cell_type": "code",
   "execution_count": null,
   "id": "866364e0-fe01-4a11-8013-27c5670c4046",
   "metadata": {},
   "outputs": [],
   "source": [
    "res <- results(dds_kirp)\n",
    "mcols(res)\n",
    "summary(res)"
   ]
  },
  {
   "cell_type": "code",
   "execution_count": null,
   "id": "8cf56827-ac81-44f8-acb4-b637b0eb2bb9",
   "metadata": {},
   "outputs": [],
   "source": [
    "filter_upgenes = which(res$padj < 0.05 & res$log2FoldChange > 0)\n",
    "total_upgenes = length(filter_upgenes)\n",
    "filtered_up_res = res[filter_upgenes,]\n",
    "\n",
    "filter_downgenes = which(res$padj < 0.05 & res$log2FoldChange < 0)\n",
    "total_downgenes = length(filter_downgenes)\n",
    "filtered_down_res = res[filter_downgenes,]"
   ]
  },
  {
   "cell_type": "code",
   "execution_count": null,
   "id": "7c08417e-381d-4e38-a03f-5306fd6f2a41",
   "metadata": {},
   "outputs": [],
   "source": [
    "percent_genes_proposed = 0.5"
   ]
  },
  {
   "cell_type": "code",
   "execution_count": null,
   "id": "6016219b-3840-43f4-8f77-eeb15363ee7d",
   "metadata": {},
   "outputs": [],
   "source": [
    "(lfc_5000_up_thresh = sort(filtered_up_res$log2FoldChange, decreasing = TRUE)[ percent_genes_proposed*total_upgenes ])\n",
    "(lfc_5000_down_thresh = sort(filtered_down_res$log2FoldChange, decreasing = FALSE)[percent_genes_proposed*total_downgenes])"
   ]
  },
  {
   "cell_type": "code",
   "execution_count": null,
   "id": "dea4440f-4774-4179-b409-2634c556ee10",
   "metadata": {},
   "outputs": [],
   "source": [
    "#upgenes\n",
    "indices <- which(res$padj < 0.05 & res$log2FoldChange > 1)\n",
    "up_res <- res[indices, ] \n",
    "upgenes <- rownames(head(res[order(res$log2FoldChange, decreasing = TRUE), ], n=length(indices)))\n",
    "print(\"num upgenes\")\n",
    "print(length(upgenes)) "
   ]
  },
  {
   "cell_type": "code",
   "execution_count": null,
   "id": "7db7d761-818e-4aea-8a48-99d5210a1e38",
   "metadata": {},
   "outputs": [],
   "source": [
    "#upgenes\n",
    "# indices <- which(res$padj < 0.05 & res$log2FoldChange >  lfc_5000_up_thresh)\n",
    "# up_res <- res[indices, ]\n",
    "# upgenes <- rownames(head(res[order(res$log2FoldChange, decreasing = TRUE), ], n=length(indices)))\n",
    "# print(\"num upgenes\")\n",
    "# print(length(upgenes)) "
   ]
  },
  {
   "cell_type": "code",
   "execution_count": null,
   "id": "af70072e-c17d-4ef1-a1ed-f60fa03b9e38",
   "metadata": {},
   "outputs": [],
   "source": [
    "#downgenes\n",
    "indices <- which(res$padj < 0.05 & res$log2FoldChange < -1)\n",
    "down_res <- res[indices, ]\n",
    "downgenes <- rownames(head(down_res[order(-down_res$log2FoldChange, decreasing = TRUE), ], n=length(indices)))\n",
    "print(\"num downgenes\")\n",
    "print(length(downgenes)) "
   ]
  },
  {
   "cell_type": "code",
   "execution_count": null,
   "id": "e845444b-3470-404b-930b-516fd1b1a893",
   "metadata": {},
   "outputs": [],
   "source": [
    "#downgenes\n",
    "# indices <- which(res$padj < 0.05 & res$log2FoldChange < lfc_5000_down_thresh)\n",
    "# down_res <- res[indices, ]\n",
    "# downgenes <- rownames(head(down_res[order(-down_res$log2FoldChange, decreasing = TRUE), ], n=length(indices)))\n",
    "# print(\"num downgenes\")\n",
    "# print(length(downgenes)) "
   ]
  },
  {
   "cell_type": "code",
   "execution_count": null,
   "id": "4fb702e1-675a-4172-8786-6e2102712aa8",
   "metadata": {},
   "outputs": [],
   "source": [
    "# Extracting genenames\n",
    "library(\"AnnotationDbi\")\n",
    "library(\"org.Hs.eg.db\")"
   ]
  },
  {
   "cell_type": "code",
   "execution_count": null,
   "id": "292289c5-3599-45f9-a516-7194b594c9f8",
   "metadata": {},
   "outputs": [],
   "source": [
    "#upgenes\n",
    "genenames <- mapIds(org.Hs.eg.db,\n",
    "                     #keys=upgenes,\n",
    "                     keys = as.character(upgenes),\n",
    "                     column=\"SYMBOL\",\n",
    "                     keytype=\"ENSEMBL\",\n",
    "                     multiVals=\"first\")\n",
    "\n",
    "map.df = as.data.frame(as.matrix(genenames))\n",
    "name=map.df$V1"
   ]
  },
  {
   "cell_type": "code",
   "execution_count": null,
   "id": "fb68af57-9281-41e8-82dc-ad8a5dfd097c",
   "metadata": {},
   "outputs": [],
   "source": [
    "sum(!is.na(name))"
   ]
  },
  {
   "cell_type": "code",
   "execution_count": null,
   "id": "5e4f08ff-7da0-423e-96df-a001d081c725",
   "metadata": {},
   "outputs": [],
   "source": [
    "write.csv(name,'up_kirp_genes.csv', sep = '\\t')"
   ]
  },
  {
   "cell_type": "code",
   "execution_count": null,
   "id": "cfd1f67e-b9f6-4360-9acf-619adcb8f336",
   "metadata": {},
   "outputs": [],
   "source": [
    "#downgenes\n",
    "genenames1 <- mapIds(org.Hs.eg.db,\n",
    "                    #keys=upgenes,\n",
    "                    keys = as.character(downgenes),\n",
    "                    column=\"SYMBOL\",\n",
    "                    keytype=\"ENSEMBL\",\n",
    "                    multiVals=\"first\")\n",
    "\n",
    "map.df1 = as.data.frame(as.matrix(genenames1))\n",
    "name1=map.df1$V1"
   ]
  },
  {
   "cell_type": "code",
   "execution_count": null,
   "id": "9163c24a-8f81-4f38-8623-1610d61107ba",
   "metadata": {},
   "outputs": [],
   "source": [
    "sum(!is.na(name1))"
   ]
  },
  {
   "cell_type": "code",
   "execution_count": null,
   "id": "0891c429-a6db-42e9-a74b-3df66083911b",
   "metadata": {},
   "outputs": [],
   "source": [
    "write.csv(name1,'down_kirp_genes.csv', sep = '\\t')"
   ]
  },
  {
   "cell_type": "code",
   "execution_count": null,
   "id": "19ba4269-60b3-4474-a085-04a4e631ae3a",
   "metadata": {},
   "outputs": [],
   "source": []
  }
 ],
 "metadata": {
  "kernelspec": {
   "display_name": "R",
   "language": "R",
   "name": "ir"
  },
  "language_info": {
   "codemirror_mode": "r",
   "file_extension": ".r",
   "mimetype": "text/x-r-source",
   "name": "R",
   "pygments_lexer": "r",
   "version": "4.1.2"
  }
 },
 "nbformat": 4,
 "nbformat_minor": 5
}
