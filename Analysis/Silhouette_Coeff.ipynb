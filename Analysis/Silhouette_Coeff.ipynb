{
 "cells": [
  {
   "cell_type": "markdown",
   "metadata": {
    "id": "-d6ulNVdzI-S"
   },
   "source": [
    "**Silhoutte Coeff**"
   ]
  },
  {
   "cell_type": "code",
   "execution_count": 1,
   "metadata": {
    "id": "r6DZ5Fj9yLJn"
   },
   "outputs": [],
   "source": [
    "import pandas as pd"
   ]
  },
  {
   "cell_type": "code",
   "execution_count": 2,
   "metadata": {
    "id": "WRah3L6E0Nul"
   },
   "outputs": [],
   "source": [
    "def get_silhoutte(distance_mat, cluster_assignments, cluster_no):\n",
    "  patients = distance_mat.columns\n",
    "  sil_mat = pd.DataFrame( ([None,None] for i in range(len(patients))),index=patients, columns = [\"sil_val\", \"cluster\"])\n",
    "  for i in patients:\n",
    "    sum1 = 0\n",
    "    sum2 = 0\n",
    "    count1 = 0\n",
    "    count2 = 0\n",
    "    patient_cluster = int(cluster_assignments.loc[i])\n",
    "    for j in patients:\n",
    "      if i!=j:\n",
    "        oth_cluster = int(cluster_assignments.loc[j])\n",
    "        if patient_cluster == oth_cluster:\n",
    "          count1 += 1\n",
    "          sum1 += float(distance_mat.loc[i,j])\n",
    "        else:\n",
    "          count2 += 1\n",
    "          sum2 += float(distance_mat.loc[i,j])\n",
    "    sum1 = sum1/count1\n",
    "    sum2 = sum2/count2\n",
    "    sil_val = (sum2 - sum1)/max(sum1,sum2)\n",
    "    sil_mat.loc[i,\"sil_val\"] = sil_val\n",
    "    sil_mat.loc[i,\"cluster\"] = patient_cluster\n",
    "  return sil_mat"
   ]
  },
  {
   "cell_type": "code",
   "execution_count": 3,
   "metadata": {
    "id": "QaSzUUJtzbWD"
   },
   "outputs": [],
   "source": [
    "sim_mat = pd.read_csv(\"./KIRC_CRN_raw/c6_i100_alpha_0.7/CRN_6_i100_alpha_0.7_cc_matrix.csv\", index_col = 0)\n",
    "distance_mat = 1 - sim_mat"
   ]
  },
  {
   "cell_type": "code",
   "execution_count": 4,
   "metadata": {
    "id": "KVticaKR0BZj"
   },
   "outputs": [],
   "source": [
    "cluster_assignments = (pd.read_csv(\"./KIRC_CRN_raw/c6_i100_alpha_0.7/CRN_6_i100_alpha_0.7_cluster_assignments.csv\",header=None, index_col=0)).iloc[1:,:]"
   ]
  },
  {
   "cell_type": "code",
   "execution_count": 5,
   "metadata": {
    "id": "hmQlXBuI2S-B"
   },
   "outputs": [],
   "source": [
    "silhoutte = get_silhoutte(distance_mat, cluster_assignments, 6)"
   ]
  },
  {
   "cell_type": "code",
   "execution_count": 6,
   "metadata": {
    "id": "VW3iibC-2Yrp"
   },
   "outputs": [],
   "source": [
    "silhoutte.to_csv(\"./KIRC_CRN_raw/c6_i100_alpha_0.7/silhoutte_dist.csv\")"
   ]
  },
  {
   "cell_type": "code",
   "execution_count": 7,
   "metadata": {},
   "outputs": [
    {
     "data": {
      "text/plain": [
       "0.5579459691629388"
      ]
     },
     "execution_count": 7,
     "metadata": {},
     "output_type": "execute_result"
    }
   ],
   "source": [
    "df=pd.read_csv(\"./KIRC_CRN_raw/c6_i100_alpha_0.7/silhoutte_dist.csv\")\n",
    "avg=df.sil_val\n",
    "avg.mean()\n",
    "\n",
    "#avg.mean()"
   ]
  },
  {
   "cell_type": "code",
   "execution_count": null,
   "metadata": {
    "id": "yGvUSTKi95sj"
   },
   "outputs": [],
   "source": []
  }
 ],
 "metadata": {
  "colab": {
   "collapsed_sections": [],
   "name": "clustering_eval.ipynb",
   "provenance": []
  },
  "kernelspec": {
   "display_name": "Python 3 (ipykernel)",
   "language": "python",
   "name": "python3"
  },
  "language_info": {
   "codemirror_mode": {
    "name": "ipython",
    "version": 3
   },
   "file_extension": ".py",
   "mimetype": "text/x-python",
   "name": "python",
   "nbconvert_exporter": "python",
   "pygments_lexer": "ipython3",
   "version": "3.8.10"
  }
 },
 "nbformat": 4,
 "nbformat_minor": 1
}
