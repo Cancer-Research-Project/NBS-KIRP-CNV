{
 "cells": [
  {
   "cell_type": "code",
   "execution_count": 1,
   "id": "0e917f1d-2c10-4761-a296-e7dcee752f24",
   "metadata": {
    "collapsed": true,
    "jupyter": {
     "outputs_hidden": true
    },
    "tags": []
   },
   "outputs": [
    {
     "name": "stderr",
     "output_type": "stream",
     "text": [
      "Loading required package: S4Vectors\n",
      "\n",
      "Loading required package: stats4\n",
      "\n",
      "Loading required package: BiocGenerics\n",
      "\n",
      "\n",
      "Attaching package: ‘BiocGenerics’\n",
      "\n",
      "\n",
      "The following objects are masked from ‘package:stats’:\n",
      "\n",
      "    IQR, mad, sd, var, xtabs\n",
      "\n",
      "\n",
      "The following objects are masked from ‘package:base’:\n",
      "\n",
      "    anyDuplicated, append, as.data.frame, basename, cbind, colnames,\n",
      "    dirname, do.call, duplicated, eval, evalq, Filter, Find, get, grep,\n",
      "    grepl, intersect, is.unsorted, lapply, Map, mapply, match, mget,\n",
      "    order, paste, pmax, pmax.int, pmin, pmin.int, Position, rank,\n",
      "    rbind, Reduce, rownames, sapply, setdiff, sort, table, tapply,\n",
      "    union, unique, unsplit, which.max, which.min\n",
      "\n",
      "\n",
      "\n",
      "Attaching package: ‘S4Vectors’\n",
      "\n",
      "\n",
      "The following objects are masked from ‘package:base’:\n",
      "\n",
      "    expand.grid, I, unname\n",
      "\n",
      "\n",
      "Loading required package: IRanges\n",
      "\n",
      "Loading required package: GenomicRanges\n",
      "\n",
      "Loading required package: GenomeInfoDb\n",
      "\n",
      "Loading required package: SummarizedExperiment\n",
      "\n",
      "Loading required package: MatrixGenerics\n",
      "\n",
      "Loading required package: matrixStats\n",
      "\n",
      "\n",
      "Attaching package: ‘MatrixGenerics’\n",
      "\n",
      "\n",
      "The following objects are masked from ‘package:matrixStats’:\n",
      "\n",
      "    colAlls, colAnyNAs, colAnys, colAvgsPerRowSet, colCollapse,\n",
      "    colCounts, colCummaxs, colCummins, colCumprods, colCumsums,\n",
      "    colDiffs, colIQRDiffs, colIQRs, colLogSumExps, colMadDiffs,\n",
      "    colMads, colMaxs, colMeans2, colMedians, colMins, colOrderStats,\n",
      "    colProds, colQuantiles, colRanges, colRanks, colSdDiffs, colSds,\n",
      "    colSums2, colTabulates, colVarDiffs, colVars, colWeightedMads,\n",
      "    colWeightedMeans, colWeightedMedians, colWeightedSds,\n",
      "    colWeightedVars, rowAlls, rowAnyNAs, rowAnys, rowAvgsPerColSet,\n",
      "    rowCollapse, rowCounts, rowCummaxs, rowCummins, rowCumprods,\n",
      "    rowCumsums, rowDiffs, rowIQRDiffs, rowIQRs, rowLogSumExps,\n",
      "    rowMadDiffs, rowMads, rowMaxs, rowMeans2, rowMedians, rowMins,\n",
      "    rowOrderStats, rowProds, rowQuantiles, rowRanges, rowRanks,\n",
      "    rowSdDiffs, rowSds, rowSums2, rowTabulates, rowVarDiffs, rowVars,\n",
      "    rowWeightedMads, rowWeightedMeans, rowWeightedMedians,\n",
      "    rowWeightedSds, rowWeightedVars\n",
      "\n",
      "\n",
      "Loading required package: Biobase\n",
      "\n",
      "Welcome to Bioconductor\n",
      "\n",
      "    Vignettes contain introductory material; view with\n",
      "    'browseVignettes()'. To cite Bioconductor, see\n",
      "    'citation(\"Biobase\")', and for packages 'citation(\"pkgname\")'.\n",
      "\n",
      "\n",
      "\n",
      "Attaching package: ‘Biobase’\n",
      "\n",
      "\n",
      "The following object is masked from ‘package:MatrixGenerics’:\n",
      "\n",
      "    rowMedians\n",
      "\n",
      "\n",
      "The following objects are masked from ‘package:matrixStats’:\n",
      "\n",
      "    anyMissing, rowMedians\n",
      "\n",
      "\n"
     ]
    }
   ],
   "source": [
    "library(TCGAbiolinks)\n",
    "library(DESeq2)\n",
    "library(ggplot2)"
   ]
  },
  {
   "cell_type": "code",
   "execution_count": 2,
   "id": "8be992d8-ec18-452b-baf1-3d0a4de31801",
   "metadata": {
    "tags": []
   },
   "outputs": [],
   "source": [
    "#download\n",
    "# query.KIRP <- GDCquery(project = \"TCGA-KIRP\", \n",
    "#                        data.category = \"Transcriptome Profiling\", \n",
    "#                        data.type = \"Gene Expression Quantification\", \n",
    "#                        workflow.type = \"HTSeq - Counts\", \n",
    "#                        sample.type = \"Primary Tumor\")\n",
    "\n",
    "# GDCdownload(query.KIRP)\n",
    "# tumor.kirp <- GDCprepare(query = query.KIRP, \n",
    "#                          save = TRUE, \n",
    "#                          save.filename = \"kirpRNAseqTumor.rda\", \n",
    "#                          summarizedExperiment = TRUE)"
   ]
  },
  {
   "cell_type": "code",
   "execution_count": 3,
   "id": "0770450a-2a67-4892-8726-67cedac4ae63",
   "metadata": {},
   "outputs": [],
   "source": [
    "load(\"../../../Data/kirpRNAseqTumor.rda\")\n",
    "tumor.kirp = data"
   ]
  },
  {
   "cell_type": "code",
   "execution_count": 4,
   "id": "6b954f84-8c23-41d9-a543-6c940f32506b",
   "metadata": {
    "tags": []
   },
   "outputs": [],
   "source": [
    "#download\n",
    "#query.KIRP_normal <- GDCquery(project = \"TCGA-KIRP\", \n",
    "                       #data.category = \"Transcriptome Profiling\", \n",
    "                       #data.type = \"Gene Expression Quantification\", \n",
    "                       #workflow.type = \"HTSeq - Counts\", \n",
    "                       #sample.type = \"Solid Tissue Normal\")\n",
    "\n",
    "#GDCdownload(query.KIRP_normal)\n",
    "#tumor.kirp_normal <- GDCprepare(query = query.KIRP_normal, \n",
    "                                #save = TRUE, \n",
    "                                #save.filename = \"kirpRNAseqNormal.rda\", \n",
    "                                #summarizedExperiment = TRUE)"
   ]
  },
  {
   "cell_type": "code",
   "execution_count": 5,
   "id": "3e0f63a5-fe11-4151-9f0e-4bba173791ba",
   "metadata": {},
   "outputs": [
    {
     "data": {
      "text/plain": [
       "class: RangedSummarizedExperiment \n",
       "dim: 56602 288 \n",
       "metadata(1): data_release\n",
       "assays(1): HTSeq - Counts\n",
       "rownames(56602): TSPAN6 TNMD ... LINC01144 AC007389.5\n",
       "rowData names(3): ensembl_gene_id external_gene_name\n",
       "  original_ensembl_gene_id\n",
       "colnames(288): TCGA-HE-A5NK-01A-11R-A26U-07\n",
       "  TCGA-BQ-7051-01A-12R-1965-07 ... TCGA-BQ-5882-01A-11R-1592-07\n",
       "  TCGA-B1-7332-01A-11R-A32Z-07\n",
       "colData names(207): barcode patient ... paper_VHL.copy..log2.normal.\n",
       "  paper_NF2.copy..log2.normal."
      ]
     },
     "metadata": {},
     "output_type": "display_data"
    }
   ],
   "source": [
    "rownames(tumor.kirp) = rowData(tumor.kirp)$external_gene_name\n",
    "tumor.kirp"
   ]
  },
  {
   "cell_type": "code",
   "execution_count": 6,
   "id": "83314ae5-d1ee-4ccc-80f4-70c03ca9137d",
   "metadata": {},
   "outputs": [
    {
     "data": {
      "text/html": [
       "288"
      ],
      "text/latex": [
       "288"
      ],
      "text/markdown": [
       "288"
      ],
      "text/plain": [
       "[1] 288"
      ]
     },
     "metadata": {},
     "output_type": "display_data"
    }
   ],
   "source": [
    "ncol(tumor.kirp)"
   ]
  },
  {
   "cell_type": "code",
   "execution_count": 7,
   "id": "cd281c56",
   "metadata": {
    "tags": []
   },
   "outputs": [],
   "source": [
    "patients = colData(tumor.kirp)$patient\n",
    "# patients"
   ]
  },
  {
   "cell_type": "code",
   "execution_count": 8,
   "id": "051f767d",
   "metadata": {
    "tags": []
   },
   "outputs": [],
   "source": [
    "clusters = read.csv('./KN_2_i100_alpha_0.7_cluster_assignments.csv', row.names = 1)\n",
    "clusters$patient = rownames(clusters)\n",
    "colnames(clusters) = c( 'cluster', 'patient')\n",
    "# clusters"
   ]
  },
  {
   "cell_type": "code",
   "execution_count": 9,
   "id": "19e2207c-310e-46c1-92b8-51a058a49395",
   "metadata": {},
   "outputs": [],
   "source": [
    "common_pat = intersect(patients, clusters$patient)\n",
    "clusters = clusters[common_pat, ]"
   ]
  },
  {
   "cell_type": "code",
   "execution_count": 10,
   "id": "d2f6f602-8211-4c9d-9053-bac0dbcfff05",
   "metadata": {},
   "outputs": [],
   "source": [
    "# giving dummy cluster names for c1 as 3, and c2 as 4\n",
    "clusters$cluster[clusters$cluster==1] = 3\n",
    "clusters$cluster[clusters$cluster==2] = 4\n",
    "\n",
    "# changing cluster names for c1 as 2, and c2 as 1\n",
    "clusters$cluster[clusters$cluster==3] = 2\n",
    "clusters$cluster[clusters$cluster==4] = 1"
   ]
  },
  {
   "cell_type": "code",
   "execution_count": 11,
   "id": "306471b2-fed4-4d77-af91-0a550db81d47",
   "metadata": {},
   "outputs": [],
   "source": [
    "temp_pat = colnames(assay(tumor.kirp))\n",
    "colnames(tumor.kirp) = sapply(temp_pat, substring ,1, 12)"
   ]
  },
  {
   "cell_type": "code",
   "execution_count": 13,
   "id": "4740e580",
   "metadata": {
    "tags": []
   },
   "outputs": [],
   "source": [
    "tumor.kirp = tumor.kirp[,common_pat]"
   ]
  },
  {
   "cell_type": "code",
   "execution_count": 14,
   "id": "17eb06c5-39a2-48a3-b363-499ba2ef9ca9",
   "metadata": {},
   "outputs": [
    {
     "data": {
      "text/plain": [
       "class: RangedSummarizedExperiment \n",
       "dim: 56602 272 \n",
       "metadata(1): data_release\n",
       "assays(1): HTSeq - Counts\n",
       "rownames(56602): TSPAN6 TNMD ... LINC01144 AC007389.5\n",
       "rowData names(3): ensembl_gene_id external_gene_name\n",
       "  original_ensembl_gene_id\n",
       "colnames(272): TCGA-HE-A5NK TCGA-BQ-7051 ... TCGA-BQ-5882 TCGA-B1-7332\n",
       "colData names(207): barcode patient ... paper_VHL.copy..log2.normal.\n",
       "  paper_NF2.copy..log2.normal."
      ]
     },
     "metadata": {},
     "output_type": "display_data"
    }
   ],
   "source": [
    "tumor.kirp"
   ]
  },
  {
   "cell_type": "markdown",
   "id": "21488d05-472d-4250-bf42-cad6f95c0048",
   "metadata": {},
   "source": [
    "## DEG"
   ]
  },
  {
   "cell_type": "code",
   "execution_count": 15,
   "id": "b4d795b9-1a20-4df1-bb3e-b5d81f95dc93",
   "metadata": {},
   "outputs": [],
   "source": [
    "clusters = clusters[tumor.kirp$patient, ]"
   ]
  },
  {
   "cell_type": "code",
   "execution_count": 16,
   "id": "c2f04aeb-698a-473b-9268-90e48b3a6a6d",
   "metadata": {},
   "outputs": [],
   "source": [
    "colData(tumor.kirp)$cluster = factor(clusters$cluster,levels=c(1,2) )"
   ]
  },
  {
   "cell_type": "code",
   "execution_count": 17,
   "id": "17438821-d840-41cd-b433-ce70ebdae210",
   "metadata": {},
   "outputs": [
    {
     "name": "stderr",
     "output_type": "stream",
     "text": [
      "renaming the first element in assays to 'counts'\n",
      "\n",
      "converting counts to integer mode\n",
      "\n",
      "Warning message in DESeqDataSet(tumor.kirp, design = ~cluster):\n",
      "“1452 duplicate rownames were renamed by adding numbers”\n"
     ]
    }
   ],
   "source": [
    "#Design\n",
    "kirp.dds <- DESeqDataSet(tumor.kirp, design = ~ cluster)"
   ]
  },
  {
   "cell_type": "code",
   "execution_count": 18,
   "id": "b4499781-d0ee-4363-b3e8-2a32cda166bb",
   "metadata": {},
   "outputs": [],
   "source": [
    "# Remove sample with less than 10 counts across samples for a given gene\n",
    "kirp.dds = kirp.dds[rowSums(counts(kirp.dds)) > 10]"
   ]
  },
  {
   "cell_type": "code",
   "execution_count": 19,
   "id": "1757ace2-3ab3-4ebc-9d08-4f88f7921a5f",
   "metadata": {},
   "outputs": [
    {
     "name": "stderr",
     "output_type": "stream",
     "text": [
      "estimating size factors\n",
      "\n",
      "estimating dispersions\n",
      "\n",
      "gene-wise dispersion estimates\n",
      "\n",
      "mean-dispersion relationship\n",
      "\n",
      "final dispersion estimates\n",
      "\n",
      "fitting model and testing\n",
      "\n",
      "-- replacing outliers and refitting for 5711 genes\n",
      "-- DESeq argument 'minReplicatesForReplace' = 7 \n",
      "-- original counts are preserved in counts(dds)\n",
      "\n",
      "estimating dispersions\n",
      "\n",
      "fitting model and testing\n",
      "\n"
     ]
    }
   ],
   "source": [
    "kirp.dds <- DESeq(kirp.dds)"
   ]
  },
  {
   "cell_type": "code",
   "execution_count": 20,
   "id": "a0776872-6ee7-4f61-9107-65fe9727450a",
   "metadata": {},
   "outputs": [],
   "source": [
    "res <- results(kirp.dds)"
   ]
  },
  {
   "cell_type": "code",
   "execution_count": 21,
   "id": "951b4e3d-415f-42c1-8476-4131a40fcd4e",
   "metadata": {},
   "outputs": [
    {
     "data": {
      "text/plain": [
       "log2 fold change (MLE): cluster 2 vs 1 \n",
       "Wald test p-value: cluster 2 vs 1 \n",
       "DataFrame with 49011 rows and 6 columns\n",
       "            baseMean log2FoldChange     lfcSE       stat      pvalue\n",
       "           <numeric>      <numeric> <numeric>  <numeric>   <numeric>\n",
       "TSPAN6     3248.0709      0.2604004 0.0703834   3.699742 2.15819e-04\n",
       "TNMD         14.2373      0.9741640 0.2631087   3.702516 2.13472e-04\n",
       "DPM1       1187.0730      0.1218389 0.0480543   2.535444 1.12305e-02\n",
       "SCYL3       533.4457     -0.0216574 0.0599767  -0.361096 7.18027e-01\n",
       "C1orf112    143.6480      0.4882078 0.0761791   6.408688 1.46777e-10\n",
       "...              ...            ...       ...        ...         ...\n",
       "AC233263.6  1.044066     0.34358453 0.2525793  1.3603039 0.173733789\n",
       "HERC2P7     0.463481    -0.00642767 0.3637088 -0.0176726 0.985900055\n",
       "SNORA50A.1  0.271711    -0.02752454 0.3635075 -0.0757193 0.939642414\n",
       "LINC01144  92.621052    -0.33297065 0.0970281 -3.4316946 0.000599823\n",
       "AC007389.5  4.938766     0.06856737 0.1935983  0.3541735 0.723208891\n",
       "                  padj\n",
       "             <numeric>\n",
       "TSPAN6     9.21904e-04\n",
       "TNMD       9.13500e-04\n",
       "DPM1       2.89517e-02\n",
       "SCYL3      8.06595e-01\n",
       "C1orf112   2.71422e-09\n",
       "...                ...\n",
       "AC233263.6  0.27979147\n",
       "HERC2P7     0.99179071\n",
       "SNORA50A.1  0.96142030\n",
       "LINC01144   0.00227917\n",
       "AC007389.5  0.81062975"
      ]
     },
     "metadata": {},
     "output_type": "display_data"
    }
   ],
   "source": [
    "res"
   ]
  },
  {
   "cell_type": "code",
   "execution_count": 22,
   "id": "2f3422bf-0114-49c4-9d1d-89a0fb07a5ae",
   "metadata": {},
   "outputs": [
    {
     "name": "stdout",
     "output_type": "stream",
     "text": [
      "\n",
      "out of 49008 with nonzero total read count\n",
      "adjusted p-value < 0.1\n",
      "LFC > 0 (up)       : 12054, 25%\n",
      "LFC < 0 (down)     : 6695, 14%\n",
      "outliers [1]       : 0, 0%\n",
      "low counts [2]     : 10455, 21%\n",
      "(mean count < 0)\n",
      "[1] see 'cooksCutoff' argument of ?results\n",
      "[2] see 'independentFiltering' argument of ?results\n",
      "\n"
     ]
    }
   ],
   "source": [
    "# mcols(res)\n",
    "summary(res)"
   ]
  },
  {
   "cell_type": "code",
   "execution_count": 24,
   "id": "9060358c-96db-47af-9b63-c10d2535cfb0",
   "metadata": {},
   "outputs": [],
   "source": [
    "f_upgenes = which(res$padj < 0.05 & res$log2FoldChange > 1)\n",
    "t_upgenes = length(f_upgenes)\n",
    "f_up_res = res[f_upgenes,]\n",
    "\n",
    "f_downgenes = which(res$padj < 0.05 & res$log2FoldChange < -1)\n",
    "t_downgenes = length(f_downgenes)\n",
    "f_down_res = res[f_downgenes,]"
   ]
  },
  {
   "cell_type": "code",
   "execution_count": 25,
   "id": "da78eab0-7e32-4200-993d-d2c58c45dbc4",
   "metadata": {},
   "outputs": [
    {
     "data": {
      "text/plain": [
       "log2 fold change (MLE): cluster 2 vs 1 \n",
       "Wald test p-value: cluster 2 vs 1 \n",
       "DataFrame with 3371 rows and 6 columns\n",
       "            baseMean log2FoldChange     lfcSE      stat      pvalue        padj\n",
       "           <numeric>      <numeric> <numeric> <numeric>   <numeric>   <numeric>\n",
       "KLHL13      946.0191        1.00996  0.166385   6.06999 1.27915e-09 1.88528e-08\n",
       "SLC7A2      501.1772        1.72497  0.185511   9.29847 1.42482e-20 2.23422e-18\n",
       "PDK4       3282.8412        1.10931  0.189747   5.84626 5.02761e-09 6.51798e-08\n",
       "ABCB5        70.6046        3.34206  0.379530   8.80577 1.29953e-18 1.40743e-16\n",
       "ARX          41.3995        2.90486  0.429756   6.75932 1.38641e-11 3.16917e-10\n",
       "...              ...            ...       ...       ...         ...         ...\n",
       "LINC00706   1.163810        1.65330  0.390489   4.23391 2.29662e-05 1.26263e-04\n",
       "DNAJB5-DT   2.993867        1.45453  0.269727   5.39260 6.94465e-08 7.02224e-07\n",
       "LINC00895   0.624715        2.11811  0.522034   4.05742 4.96182e-05 2.50666e-04\n",
       "AP000851.2  1.282960        2.95047  0.539598   5.46791 4.55381e-08 4.75688e-07\n",
       "LINC01230   1.239461        1.50725  0.583041   2.58515 9.73368e-03 2.56329e-02"
      ]
     },
     "metadata": {},
     "output_type": "display_data"
    }
   ],
   "source": [
    "f_up_res"
   ]
  },
  {
   "cell_type": "code",
   "execution_count": 26,
   "id": "34fc409a-4d6a-4dc4-a0fa-3e01b65977cd",
   "metadata": {},
   "outputs": [
    {
     "data": {
      "text/plain": [
       "log2 fold change (MLE): cluster 2 vs 1 \n",
       "Wald test p-value: cluster 2 vs 1 \n",
       "DataFrame with 642 rows and 6 columns\n",
       "            baseMean log2FoldChange     lfcSE      stat      pvalue        padj\n",
       "           <numeric>      <numeric> <numeric> <numeric>   <numeric>   <numeric>\n",
       "SLC13A2      454.443       -1.68202  0.281572  -5.97369 2.31950e-09 3.22622e-08\n",
       "DLEC1        177.584       -1.48061  0.195466  -7.57475 3.59827e-14 1.50963e-12\n",
       "PLEKHG6      499.697       -1.07940  0.195024  -5.53470 3.11763e-08 3.39175e-07\n",
       "MLXIPL      2583.983       -1.23065  0.193269  -6.36759 1.92022e-10 3.45800e-09\n",
       "IL20RA       176.319       -1.00919  0.286571  -3.52160 4.28948e-04 1.69457e-03\n",
       "...              ...            ...       ...       ...         ...         ...\n",
       "PCAT14      4.742148       -1.12463  0.328856  -3.41984 6.26583e-04 2.36477e-03\n",
       "AL353747.4  0.481624       -1.12266  0.440482  -2.54870 1.08126e-02 2.80488e-02\n",
       "FOXCUT     42.565408       -1.46649  0.190056  -7.71609 1.19954e-14 5.53884e-13\n",
       "AC005154.5  3.664552       -1.25157  0.256281  -4.88361 1.04160e-06 7.98646e-06\n",
       "AL645929.2 20.732640       -1.02886  0.211755  -4.85872 1.18150e-06 8.94395e-06"
      ]
     },
     "metadata": {},
     "output_type": "display_data"
    }
   ],
   "source": [
    "f_down_res"
   ]
  },
  {
   "cell_type": "code",
   "execution_count": 28,
   "id": "bb5d2ff1-bd2c-4028-95ff-abe5c9dc2ab1",
   "metadata": {},
   "outputs": [
    {
     "name": "stdout",
     "output_type": "stream",
     "text": [
      "Formal class 'DESeqResults' [package \"DESeq2\"] with 7 slots\n",
      "  ..@ priorInfo      : list()\n",
      "  ..@ rownames       : chr [1:642] \"SLC13A2\" \"DLEC1\" \"PLEKHG6\" \"MLXIPL\" ...\n",
      "  ..@ nrows          : int 642\n",
      "  ..@ listData       :List of 6\n",
      "  .. ..$ baseMean      : num [1:642] 454 178 500 2584 176 ...\n",
      "  .. ..$ log2FoldChange: num [1:642] -1.68 -1.48 -1.08 -1.23 -1.01 ...\n",
      "  .. ..$ lfcSE         : num [1:642] 0.282 0.195 0.195 0.193 0.287 ...\n",
      "  .. ..$ stat          : num [1:642] -5.97 -7.57 -5.53 -6.37 -3.52 ...\n",
      "  .. ..$ pvalue        : num [1:642] 2.32e-09 3.60e-14 3.12e-08 1.92e-10 4.29e-04 ...\n",
      "  .. ..$ padj          : num [1:642] 3.23e-08 1.51e-12 3.39e-07 3.46e-09 1.69e-03 ...\n",
      "  ..@ elementType    : chr \"ANY\"\n",
      "  ..@ elementMetadata:Formal class 'DFrame' [package \"S4Vectors\"] with 6 slots\n",
      "  .. .. ..@ rownames       : NULL\n",
      "  .. .. ..@ nrows          : int 6\n",
      "  .. .. ..@ listData       :List of 2\n",
      "  .. .. .. ..$ type       : chr [1:6] \"intermediate\" \"results\" \"results\" \"results\" ...\n",
      "  .. .. .. ..$ description: chr [1:6] \"mean of normalized counts for all samples\" \"log2 fold change (MLE): cluster 2 vs 1\" \"standard error: cluster 2 vs 1\" \"Wald statistic: cluster 2 vs 1\" ...\n",
      "  .. .. ..@ elementType    : chr \"ANY\"\n",
      "  .. .. ..@ elementMetadata: NULL\n",
      "  .. .. ..@ metadata       : list()\n",
      "  ..@ metadata       :List of 6\n",
      "  .. ..$ filterThreshold: Named num 0.26\n",
      "  .. .. ..- attr(*, \"names\")= chr \"21.33128%\"\n",
      "  .. ..$ filterTheta    : num 0.213\n",
      "  .. ..$ filterNumRej   :'data.frame':\t50 obs. of  2 variables:\n",
      "  .. .. ..$ theta : num [1:50] 6.12e-05 1.94e-02 3.88e-02 5.82e-02 7.76e-02 ...\n",
      "  .. .. ..$ numRej: num [1:50] 17853 17919 17996 18076 18143 ...\n",
      "  .. ..$ lo.fit         :List of 2\n",
      "  .. .. ..$ x: num [1:50] 6.12e-05 1.94e-02 3.88e-02 5.82e-02 7.76e-02 ...\n",
      "  .. .. ..$ y: num [1:50] 17845 17922 17999 18076 18153 ...\n",
      "  .. ..$ alpha          : num 0.1\n",
      "  .. ..$ lfcThreshold   : num 0\n"
     ]
    }
   ],
   "source": [
    "str(f_down_res)"
   ]
  },
  {
   "cell_type": "code",
   "execution_count": 34,
   "id": "ee43ad12-86c7-465d-b1f9-4fd281710386",
   "metadata": {},
   "outputs": [],
   "source": [
    "f_up_res_sorted = f_up_res[order(f_up_res$log2FoldChange, decreasing = TRUE),]\n",
    "f_down_res_sorted = f_down_res[order(f_down_res$log2FoldChange),]"
   ]
  },
  {
   "cell_type": "code",
   "execution_count": 36,
   "id": "53225328-c0fd-4c91-a91a-99c5fb40ee16",
   "metadata": {},
   "outputs": [
    {
     "data": {
      "text/plain": [
       "log2 fold change (MLE): cluster 2 vs 1 \n",
       "Wald test p-value: cluster 2 vs 1 \n",
       "DataFrame with 642 rows and 6 columns\n",
       "             baseMean log2FoldChange     lfcSE      stat      pvalue\n",
       "            <numeric>      <numeric> <numeric> <numeric>   <numeric>\n",
       "AGR3        147.26388       -3.77060  0.353689 -10.66078 1.55287e-26\n",
       "CPN2        296.74607       -3.29504  0.416706  -7.90734 2.62945e-15\n",
       "PAGE1         2.53225       -3.18582  0.958415  -3.32405 8.87204e-04\n",
       "C1orf87      36.67659       -2.92213  0.370636  -7.88410 3.16809e-15\n",
       "MUC2         11.02630       -2.74682  0.423750  -6.48217 9.04136e-11\n",
       "...               ...            ...       ...       ...         ...\n",
       "AC127024.6  16.524291       -1.00408  0.164698  -6.09648 1.08429e-09\n",
       "ADAMTS13   609.687701       -1.00361  0.120628  -8.31991 8.80294e-17\n",
       "ZNF577     440.647064       -1.00146  0.160713  -6.23138 4.62331e-10\n",
       "AL121839.2 125.551993       -1.00081  0.137350  -7.28661 3.17848e-13\n",
       "GPC6-AS2     0.952965       -1.00020  0.318185  -3.14347 1.66958e-03\n",
       "                  padj\n",
       "             <numeric>\n",
       "AGR3       7.48405e-24\n",
       "CPN2       1.38310e-13\n",
       "PAGE1      3.20651e-03\n",
       "C1orf87    1.63897e-13\n",
       "MUC2       1.75767e-09\n",
       "...                ...\n",
       "AC127024.6 1.61912e-08\n",
       "ADAMTS13   6.32041e-15\n",
       "ZNF577     7.52137e-09\n",
       "AL121839.2 1.05646e-11\n",
       "GPC6-AS2   5.56904e-03"
      ]
     },
     "metadata": {},
     "output_type": "display_data"
    }
   ],
   "source": [
    "f_down_res_sorted"
   ]
  },
  {
   "cell_type": "code",
   "execution_count": 37,
   "id": "5b2e865c-362c-4158-975a-9920f423739f",
   "metadata": {},
   "outputs": [],
   "source": [
    "write.csv(f_up_res_sorted,'upgenes_poorsurv_kirp.csv')\n",
    "write.csv(f_down_res_sorted,'downgenes_poorsurv_kirp.csv')"
   ]
  }
 ],
 "metadata": {
  "kernelspec": {
   "display_name": "R",
   "language": "R",
   "name": "ir"
  },
  "language_info": {
   "codemirror_mode": "r",
   "file_extension": ".r",
   "mimetype": "text/x-r-source",
   "name": "R",
   "pygments_lexer": "r",
   "version": "4.1.2"
  }
 },
 "nbformat": 4,
 "nbformat_minor": 5
}
